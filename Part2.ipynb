{
 "cells": [
  {
   "cell_type": "markdown",
   "metadata": {},
   "source": [
    "*Dựa vào đặc điểm của biến mục tiêu, có thể chia Decision Tree thành hai dạng : Regression Tree và Classification Tree. Nếu biến mục tiêu thuộc dạng continous variable, Decision Tree được gọi là Regression Tree (hay còn gọi là Continous Variable Decision Tree). Ngược lại nếu biến mục tiêu thuộc dạng categorical variable, Decision Tree được gọi là Classification Tree (hay còn gọi là Categorical Variable Decision Tree).*\n"
   ]
  },
  {
   "cell_type": "markdown",
   "metadata": {},
   "source": [
    "## Regression Tree và Classification Tree"
   ]
  },
  {
   "cell_type": "markdown",
   "metadata": {},
   "source": [
    "Cả 2 loại tree đều có cách thức hoạt động giống nhau, dưới đây là so sánh giữa Regression Tree và Classification Tree\n",
    "\n",
    "1. Regression Tree có biến mục tiêu là biến liên tục, trong khi Classification Tree có biến mục tiêu la biến phân loại.\n",
    "2. Trong Regression Tree, khi huấn luyện, giá trị tại nút lá bằng trung bình các giá trị biến mục tiêu của các điểm dữ liệu có trong nút đó. Nên khi đưa tập test vào, nếu các điểm dữ liệu rơi vào nút lá nào, kết quả trả ra sẽ là giá trị trung bình.\n",
    "3. Với Classification Tree, khi huấn luyện, giá trị tại nút lá(phân lớp) bằng giá trị có tần suất cao nhất(Mode) của các dữ liệu trong nút đó. Nên khi đưa tập test vào, nếu các điểm dữ liệu rơi vào nút lá nào, kết quả trả ra sẽ là Mode."
   ]
  },
  {
   "cell_type": "markdown",
   "metadata": {},
   "source": [
    "## Làm sao Decision Tree quyết định khi nào sẽ phân nhánh"
   ]
  },
  {
   "cell_type": "markdown",
   "metadata": {},
   "source": [
    "Các quyết định phân nhánh sẽ ảnh hưởng đến độ chính xác của Cây quyết đinh. Cây hồi quy và cây phân lớp có các thuật toán phân nhánh khác nhau. Có nhiều thuật toán phân nhánh, tùy vào kiểu của biến mục tiêu mà sử dụng thuật toán như thế nào. Có 4 thuật toán chính :"
   ]
  },
  {
   "cell_type": "markdown",
   "metadata": {},
   "source": [
    "### Gini Index"
   ]
  },
  {
   "cell_type": "markdown",
   "metadata": {},
   "source": [
    "Gini phát biểu rằng, nếu lấy hai quan sát từ 1 tập dữ liệu đồng nhất thì xác suất hai quan sát đó cùng lớp là bằng 1.\n",
    "\n",
    "1. Nó áp dụng cho biến mục tiêu là biến phân loại có dạng “Success” và “Failure”\n",
    "2. Nó chỉ được dùng cho phân nhánh nhị phân.\n",
    "3. Giá trị của Gini càng cao thì tính đồng nhất càng cao\n",
    "4. CART(Classification and Regression Tree) sử dụng Gini cho phân lớp nhị phân\n",
    "\n",
    "**Các bước để tính chỉ số Gini**\n",
    "\n",
    "1. Tính Gini cho sub-node bằng cách tính tổng bình phương xác suất của “succsess” và “failure” $(p^2+q^2)$\n",
    "2. Tính trọng số Gini cho việc phân nhánh\n",
    "\n",
    "**Ví  dụ**  \n",
    "![Decision Tree](image/part2_1.png)\n",
    "\n",
    "**Phân nhánh theo thuộc tính Gender**\n",
    "\n",
    "1. Tính Gini cho node Female :$0.2^2 +0.8^2 =0.68$\n",
    "2. Gini cho node Male :\n",
    "$0.65^2 + 0.35^2 = 0.55$\n",
    "3. Tính trọng số Gini cho việc phân nhánh theo Gender :\n",
    "$0.68 * \\frac{10}{30} + 0.55 * \\frac{20}{30} = 0.59$\n",
    "\n",
    "**Phân nhánh theo thuộc tính Class**\n",
    "\n",
    "1. Tính Gini cho node Class IX :\n",
    "$0.43^2 + 0.57^2 = 0.51$\n",
    "2. Tính Gini cho node Class X :\n",
    "$0.56^2 + 0.44^2 = 0.51$\n",
    "3. Tính trọng số Gini cho việc phân nhánh theo Class :\n",
    "$0.51 * \\frac{14}{30} + 0.51 * \\frac{16}{30} = 0.51$\n",
    "\n",
    "Ta nhận thấy Gini Score cho **Gender** cao hơn **Class** , do đó việc phân nhánh sẽ dựa trên thuộc tính **Gender**"
   ]
  },
  {
   "cell_type": "markdown",
   "metadata": {},
   "source": [
    "### Chi-Square"
   ]
  },
  {
   "cell_type": "markdown",
   "metadata": {},
   "source": [
    "Thuật toán tìm ý nghĩa thống kê giữa sự khác nhau của node con và node cha. Chi-square được tính bằng cách tính tổng bình phương độ lệch chuẩn giữa các quan sát và kì vọng tần suất của biến phụ thuộc\n",
    "\n",
    "1. Nó áp dụng cho biến mục tiêu là biến phân loại có dạng “Success” và “Failure”.\n",
    "2. Nó có thể làm việc trên phân nhánh nhị phân và đa phân nhánh.\n",
    "3. Giá trị của Chi-square càng cao thì ý nghĩa thống kê về sự khác nhau giữa node con và node cha càng cao.\n",
    "4. Công thức tính Chi-square trên mỗi node\n",
    "Chi-square =  ((Thực tế – Kì vọng)^2 / Kì vọng)^1/2\n",
    "5. Tree sử dụng thuật toán Chi-square được gọi là CHAID(Chi-square Automatic Interaction Detectior)\n",
    "\n",
    "**Các bước để tính chỉ số Chi-Square cho phân nhánh**\n",
    "\n",
    "1. Tính Chi-square cho từng node bằng cách tính độ lệch của Success và Failure\n",
    "2. Tính Chi-square của phân nhánh bằng cách tính tổng Chi-square của Success và Failure\n",
    "\n",
    "**Ví dụ**\n",
    "\n",
    "**Phân nhánh theo thuộc tính Gender**\n",
    "\n",
    "1. Với node Female, Play = 2 và Not Play = 10 – 2 = 8\n",
    "2. Tính toán giá trị kì vọng cho Play và Not Play. Ở node cha, xác suất Play = Not Play = 0.5. Do đó kì vọng Play ở node con = 0.5 * 10 = 5 và kì vọng Not Play ở node con = 0.5 * 10 = 5\n",
    "3. Tính toán độ lệch giữa thực tế và kì vọng. Độ lệch cho Play = 2 – 5 = -3 và độ lệch cho Not Play = 8 – 5 =3\n",
    "4. Tính toán Chi-square trên từng node cho Play theo công thức  Chi-square =  ((Thực tế – Kì vọng)^2 / Kì vọng)^1/2 . Kết quả được biểu diễn bên dưới\n",
    "5. Thực hiện các bước tương tự với node Male.\n",
    "6. Tính tổng các giá trị Chi-square\n",
    "\n",
    "![chiq1](image/part2_table1.png)\n",
    "\n",
    "**Phân nhánh theo thuộc tính Class** \n",
    "\n",
    "![chiq2](image/part2_table2.png)\n",
    "\n",
    "Ta nhận thấy Chi-Square Score cho **Gender** cao hơn **Class** , do đó việc phân nhánh sẽ dựa trên thuộc tính **Gender**"
   ]
  },
  {
   "cell_type": "markdown",
   "metadata": {},
   "source": [
    "### Information Gain"
   ]
  },
  {
   "cell_type": "markdown",
   "metadata": {},
   "source": [
    "![Information_Gain_Decision_Tree2](image/part2_2.png)\n",
    "\n",
    "Entropy là chỉ số để đo độ hỗn loạn của dữ liệu.Entropy càng thấp thì độ hỗn loạn càng thấp, nghĩa là việc phân nhánh càng cho kết quả tốt. Nếu mẫu hoàn toàn tính khiết thì Entropy bằng 0 và nếu mẫu được chia đều 50% – 50% thì Entropy bằng 1.\n",
    "\n",
    "Công thức tính Entropy được biểu diễn như sau\n",
    "\n",
    "$Entropy = -p log_2 p - q log_2 q$\n",
    "\n",
    "**Các bước tính Entropy cho phân nhánh**\n",
    "\n",
    "1. Tính Entropy cho node cha\n",
    "2. Tính Entropy cho từng node con sau khi phân nhánh và tính trọng số trung bình của toàn bộ nút con.\n",
    "\n",
    "**Ví dụ:**\n",
    "\n",
    "**Phân nhánh theo thuộc tính Gender**\n",
    "\n",
    "1. Entropy của node cha :\n",
    "$-\\frac{15}{30}log_2(\\frac{15}{30})-\\frac{15}{30}log_2(\\frac{15}{30})=\\mathbf{1}$\n",
    "2. Entropy cho node Female:\n",
    "$-\\frac{2}{10}log_2(\\frac{2}{10})-\\frac{8}{10}log_2(\\frac{8}{10})=0.72$\n",
    "3. Entropy cho node Male:\n",
    "$-\\frac{13}{20}log_2(\\frac{13}{20})-\\frac{7}{20}log_2(\\frac{7}{20})=0.93$\n",
    "4. Entropy cho thuộc tính Gender:\n",
    "$\\frac{10}{30} * 0.72 + \\frac{20}{30} * 0.93 =\\mathbf{0.86}$\n",
    "\n",
    "**Phân nhánh theo thuộc tính Class**\n",
    "\n",
    "1. Entropy cho node Class IX:\n",
    "$-\\frac{6}{14}log_2(\\frac{6}{14})-\\frac{8}{14}log_2(\\frac{8}{14})=0.99$\n",
    "2. Entropy cho node Class X :\n",
    "$-\\frac{9}{16}log_2(\\frac{9}{16})-\\frac{7}{16}log_2(\\frac{7}{16})=0.99$\n",
    "3. Entropy cho thuộc tính Class\n",
    "$\\frac{14}{30} * 0.99 + \\frac{16}{30}*0.99=\\mathbf{0.99}$\n",
    "\n",
    "\n",
    "\n",
    "Ta nhận thấy Entropy Score cho **Gender** thấp hơn **Class** , do đó việc phân nhánh sẽ dựa trên thuộc tính **Gender.**  Hoặc có thể tính Information Gain = 1  – Entropy, Phân nhánh nào có Information Gain cao hơn sẽ được chọn."
   ]
  },
  {
   "cell_type": "markdown",
   "metadata": {},
   "source": [
    "### Reduction in Variance"
   ]
  },
  {
   "cell_type": "markdown",
   "metadata": {},
   "source": [
    "\n",
    "Cả ba thuật toán trên đều áp dụng cho Categorical Decision Tree. Reduction in Varicance là thuật toán sử dụng cho Regression Decision Tree. Thuật toán sử dụng phương sai để chọn việc phân nhánh. Phân nhánh nào có phương sai nhỏ hơn thì sẽ được chọn. Công thức tính như sau\n",
    "\n",
    "$Variance = \\frac{\\Sigma(X-\\bar{X})^2}{n}$\n",
    "\n",
    "Trong đó $\\bar{X}$ là giá trị trung bình, $X$ là giá trị thực tế và $n$ là số phần tử\n",
    "\n",
    "**Các bước tính Variance :**\n",
    "\n",
    "1. Tính variance trên mỗi node\n",
    "2. Variance cho mỗi phân nhánh bằng trung bình variance của các node con\n",
    "\n",
    "**Ví dụ** : Để đơn giản cho bài toán Regression ,  chúng ta tiến hành chuẩn hóa biến mục tiêu như sau : giá trị 1 đại diện cho Play và giá trị 0 đại diện cho Not play\n",
    "\n",
    "**Phân nhánh theo thuộc tính Gender**\n",
    "1. Tính Variance của node cha:\n",
    "$Mean = \\frac{15*1 + 15*0}{30} = 0.5$\n",
    "$Variance = \\frac{(1-0.5)^2 + ... +(1-0.5)^2 +(0-0.5)^2 +....+(0-0.5)^2}{30} =\\mathbf{0.25}$\n",
    "2. Tính Variance cho node Female:\n",
    "$Mean  =\\frac{2*1 + 8*0}{10}=0.2$   \n",
    "$Variance = \\frac{(1-0.2)^2 + (1-0.2)^2 + (0-0.2)^2 +......+(0-0.2)^2}{10} = 0.16$\n",
    "3. Tính Variance cho node Male:\n",
    "$Mean = \\frac{13*1 + 7*0}{20} = 0.65$  \n",
    "$Variance = \\frac{(1-0.65)^2+....+(1-0.65)^2+(0-0.65)^2+.....+(0-065)^2}{20}=0.23$\n",
    "4. Tính Variance cho việc phân nhánh theo Gender\n",
    "$\\frac{10}{30}*0.16 + \\frac{20}{30}*0.23=\\mathbf{0.21}$\n",
    "\n",
    "**Phân nhánh theo thuộc tính Class**\n",
    "1. Tính Variance cho node IX: \n",
    "$Mean =\\frac{6*1 + 8*0}{14}=0.43$\n",
    "$Variance=\\frac{(1-0.43)^2+...+(1-0.43)^2+...+(0-0.43)^2+....+(0-043)^2}{14}=0.24$\n",
    "2. Tính Variance cho node X:\n",
    "$Mean =\\frac{9*1 + 7*0}{16}=0.56$\n",
    "$lVariance=\\frac{(1-0.56)^2+...+(1-0.56)^2+(0-0.56)^2+...+(0-0.56)^2}{16} = 0.25$\n",
    "3. Tính Variance cho việc phân nhánh theo Class:\n",
    "$\\frac{14}{30}*0.24 +\\frac{16}{30}*0.25 = \\mathbf{0.25}$\n",
    "\n",
    "Ta nhận thấy Variance của **Gender**  thấp hơn so với **Class** , do đó việc phân nhánh sẽ dựa trên thuộc tính **Gender**"
   ]
  },
  {
   "cell_type": "markdown",
   "metadata": {},
   "source": [
    "[Link bài viết](https://www.lehuynhduc.com/tree-based-modeling-phan-2/)"
   ]
  }
 ],
 "metadata": {
  "kernelspec": {
   "display_name": "Python 3",
   "language": "python",
   "name": "python3"
  },
  "language_info": {
   "codemirror_mode": {
    "name": "ipython",
    "version": 3
   },
   "file_extension": ".py",
   "mimetype": "text/x-python",
   "name": "python",
   "nbconvert_exporter": "python",
   "pygments_lexer": "ipython3",
   "version": "3.6.6"
  }
 },
 "nbformat": 4,
 "nbformat_minor": 2
}
