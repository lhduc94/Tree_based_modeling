{
 "cells": [
  {
   "cell_type": "markdown",
   "metadata": {},
   "source": [
    "# Tree based Modeling (Phần 3)"
   ]
  },
  {
   "cell_type": "markdown",
   "metadata": {},
   "source": [
    "![aa](image/title_part_2.png)"
   ]
  },
  {
   "cell_type": "markdown",
   "metadata": {},
   "source": [
    "## Các tham số chính của Tree modeling và cách để tránh overfitting"
   ]
  },
  {
   "cell_type": "markdown",
   "metadata": {},
   "source": [
    "Overfitting là một trong những thách thức lớn của Decision Tree. Nếu không giới hạn tập các Cây quyết định, nó sẽ cho kết quả 100% *accuracy* trên tập trainning bởi vì khi gặp trường hợp xấu nhất, trên mỗi lá chỉ có 1 quan sát. Do vậy việc giải quyết vấn đề overfitting là điểm mấu chốt khi xây dựng model Decision Tree, có 2 cách để  thực hiện :\n",
    "1. Thiết lập các ràng buộc về cấu trúc cây\n",
    "2. Tỉa cây"
   ]
  },
  {
   "cell_type": "markdown",
   "metadata": {},
   "source": [
    "### Thiết lập các ràng buộc về cấu trúc cây"
   ]
  },
  {
   "cell_type": "markdown",
   "metadata": {},
   "source": [
    "Đầu tiên hãy xem cấu trúc của cây: \n",
    "![a](image/part3_1.png)"
   ]
  },
  {
   "cell_type": "markdown",
   "metadata": {},
   "source": [
    "Các tham số  thường được sử dụng khi xây dựng cây như **max_features**, **min_samples_split**, **min_samples_leaf**. Các tham số này như nhau đối với các ngôn ngữ lập trình khác nhau.\n",
    "1. **min_samples_split**\n",
    "  * Xác định số mẫu (số quan sát) tối thiểu tại một node phân tách\n",
    "  * Được dùng để tránh overfiting. Giá trị cao hơn giúp trách việc phân tách thành các nốt có số  lượng mẫu nhỏ, dẫn đến học quá sát tập dữ liệu\n",
    "  * Ngược lại nếu số lượng mẫu trong node phân tách quá lớn sẽ dẫn tới underfitting, tham số này có thể được điều chỉnh thông qua CV(Cross validation)\n",
    "2. **min_samples_leaf**\n",
    "  * Xác định số mẫu tối thiểu tạị một node lá\n",
    "  * Điều chỉnh việc overfitting giống như **min_samples_split**\n",
    "  * Thông thường các giá trị thấp hơn nên được chọn để giải quyết vấn đề *imbalanced class* (*vùng mà class thiểu số chiếm giá trị đa số sẽ rất nhỏ)\n",
    "3. **max_features**\n",
    "  * Số lượng các features tối đa khi tìm cách chia tốt nhất. Nên để ngẫu nhiên.\n",
    "  * Theo luật **thumb-rule**, với căn bậc hai trong tổng số các features thì model đã hoạt động tốt nhưng tốt nhất chúng ta nên sử dụng 30-40% tổng số features\n",
    "  * Giá trị cao hơn có thể dẫn tới overfitting nhưng phụ thuộc vào nhiều trường hợp\n",
    "4. **max_depth**\n",
    "  * Độ sâu tối đa của cây\n",
    "  * Được dùng để điều chỉnh overfitting, cây quá sâu sẽ dẫn tới học quá sát từng mẫu cụ thể\n",
    "  * Nên được điều chỉnh bằng cách sử dụng CV\n",
    "5. **max_number_terminal_node**\n",
    "  * Số lượng node lá\n",
    "  * Có thể được định nghĩa tại max_depth, vì cây nhị phân có độ sâu n sẽ có 2^n lá"
   ]
  },
  {
   "cell_type": "markdown",
   "metadata": {},
   "source": [
    "### Tỉa cây"
   ]
  },
  {
   "cell_type": "markdown",
   "metadata": {},
   "source": [
    "Kĩ thuật thiết lập các ràng buộc cho cây là cách tiếp cận theo kiểu tham lam. Nói cách khác, cây sẽ kiểm tra cách phân chia tốt nhất ngay lập tức và tiếp tục phân chia cho đến khi gặp điều kiện dừng được chỉ định. Dưới đây là ví dụ khi bạn đang lái xe:\n",
    "![](image/part3_2.png)\n",
    "Có 2 làn:\n",
    "1. Làn xe ô tô với vận tốc 80km/h\n",
    "2. Làn xe tải với vận tốc 30km/h\n",
    "\n",
    "Tại thời điểm này, giả sử bạn là chiế c xe màu vàng và bạn có 2 lựa chọn:\n",
    "1. Rẽ trái và nhanh chóng vượt qua 2 ô tô khác\n",
    "2. Tiếp tục di chuyển trong làn hiện tại\n",
    "\n",
    "Hãy thử  phân tích các lựa chọn :\n",
    "* Lựa chọn đầu tiên, bạn sẽ vượt qua 2 xe ô tô phía trước chuyển tới phía sau xe tải và di chuyển với tốc độ 30km/h và tìm cách quay làn cũ nhanh nhất có thể"
   ]
  },
  {
   "cell_type": "code",
   "execution_count": null,
   "metadata": {},
   "outputs": [],
   "source": []
  }
 ],
 "metadata": {
  "kernelspec": {
   "display_name": "Python 3",
   "language": "python",
   "name": "python3"
  },
  "language_info": {
   "codemirror_mode": {
    "name": "ipython",
    "version": 3
   },
   "file_extension": ".py",
   "mimetype": "text/x-python",
   "name": "python",
   "nbconvert_exporter": "python",
   "pygments_lexer": "ipython3",
   "version": "3.6.6"
  }
 },
 "nbformat": 4,
 "nbformat_minor": 2
}
